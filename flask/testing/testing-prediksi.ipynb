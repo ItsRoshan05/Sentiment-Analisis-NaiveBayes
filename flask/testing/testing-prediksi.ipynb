{
 "cells": [
  {
   "cell_type": "code",
   "execution_count": 1,
   "metadata": {},
   "outputs": [],
   "source": [
    "import joblib"
   ]
  },
  {
   "cell_type": "code",
   "execution_count": 3,
   "metadata": {},
   "outputs": [
    {
     "name": "stdout",
     "output_type": "stream",
     "text": [
      "Prediction: ['Negatif']\n"
     ]
    }
   ],
   "source": [
    "# Load model dan TF-IDF Vectorizer\n",
    "loaded_model = joblib.load('../model/sentiment_model.joblib')\n",
    "loaded_tfidf = joblib.load('../model/tfidf_vectorizer.joblib')\n",
    "\n",
    "# Contoh prediksi dengan data baru\n",
    "new_text = [\"Jelek banget game apa ini sampah cuih huaks\"]\n",
    "new_text_tfidf = loaded_tfidf.transform(new_text)\n",
    "\n",
    "# Prediksi menggunakan model yang telah diload\n",
    "new_pred = loaded_model.predict(new_text_tfidf)\n",
    "print(f'Prediction: {new_pred}')\n"
   ]
  },
  {
   "cell_type": "code",
   "execution_count": null,
   "metadata": {},
   "outputs": [],
   "source": []
  }
 ],
 "metadata": {
  "kernelspec": {
   "display_name": "Python 3",
   "language": "python",
   "name": "python3"
  },
  "language_info": {
   "codemirror_mode": {
    "name": "ipython",
    "version": 3
   },
   "file_extension": ".py",
   "mimetype": "text/x-python",
   "name": "python",
   "nbconvert_exporter": "python",
   "pygments_lexer": "ipython3",
   "version": "3.10.6"
  }
 },
 "nbformat": 4,
 "nbformat_minor": 2
}
