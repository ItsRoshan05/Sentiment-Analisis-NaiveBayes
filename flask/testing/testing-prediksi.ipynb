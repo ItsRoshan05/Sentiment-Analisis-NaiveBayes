{
 "cells": [
  {
   "cell_type": "code",
   "execution_count": 23,
   "metadata": {},
   "outputs": [],
   "source": [
    "import joblib\n",
    "import re\n",
    "import re\n",
    "from Sastrawi.Stemmer.StemmerFactory import StemmerFactory\n",
    "from nltk.corpus import stopwords\n",
    "import nltk"
   ]
  },
  {
   "cell_type": "code",
   "execution_count": 24,
   "metadata": {},
   "outputs": [
    {
     "name": "stderr",
     "output_type": "stream",
     "text": [
      "[nltk_data] Downloading package stopwords to\n",
      "[nltk_data]     C:\\Users\\AdmiN\\AppData\\Roaming\\nltk_data...\n",
      "[nltk_data]   Package stopwords is already up-to-date!\n"
     ]
    },
    {
     "data": {
      "text/plain": [
       "True"
      ]
     },
     "execution_count": 24,
     "metadata": {},
     "output_type": "execute_result"
    }
   ],
   "source": [
    "nltk.download('stopwords')  "
   ]
  },
  {
   "cell_type": "code",
   "execution_count": 25,
   "metadata": {},
   "outputs": [],
   "source": [
    "# Inisialisasi stemmer\n",
    "factory = StemmerFactory()\n",
    "stemmer = factory.create_stemmer()\n",
    "stop_words = set(stopwords.words(\"indonesian\"))"
   ]
  },
  {
   "cell_type": "code",
   "execution_count": 26,
   "metadata": {},
   "outputs": [],
   "source": [
    "def preprocess_text(text):\n",
    "    # Menghapus karakter khusus dan angka\n",
    "    text = re.sub(r'[^a-zA-Z\\s]', '', text)\n",
    "    # Mengkonversi teks menjadi huruf kecil\n",
    "    text = text.lower()\n",
    "    # Menghapus spasi berlebih\n",
    "    text = re.sub(r'\\s+', ' ', text).strip()\n",
    "    # Tokenisasi\n",
    "    tokens = text.split()\n",
    "    # Menghapus stopwords dan stemming\n",
    "    tokens = [stemmer.stem(word) for word in tokens if word not in stop_words]\n",
    "    return ' '.join(tokens)"
   ]
  },
  {
   "cell_type": "code",
   "execution_count": null,
   "metadata": {},
   "outputs": [],
   "source": []
  },
  {
   "cell_type": "code",
   "execution_count": 32,
   "metadata": {},
   "outputs": [
    {
     "name": "stdout",
     "output_type": "stream",
     "text": [
      "['dasar game jelek kapitasil banget ning gua maen ff']\n",
      "Prediction: ['Negatif']\n"
     ]
    }
   ],
   "source": [
    "# Load model dan TF-IDF Vectorizer\n",
    "loaded_model = joblib.load('../model/sentiment_model.joblib')\n",
    "loaded_tfidf = joblib.load('../model/tfidf_vectorizer.joblib')\n",
    "\n",
    "# Contoh prediksi dengan data baru\n",
    "new_text = [\"Dasar game jelek mana kapitasil banget mening gua maen FF\"]\n",
    "\n",
    "# Preproses teks baru\n",
    "new_text_preprocessed = [preprocess_text(text) for text in new_text]\n",
    "\n",
    "print(new_text_preprocessed)\n",
    "\n",
    "new_text_tfidf = loaded_tfidf.transform(new_text)\n",
    "\n",
    "# Prediksi menggunakan model yang telah diload\n",
    "new_pred = loaded_model.predict(new_text_tfidf)\n",
    "print(f'Prediction: {new_pred}')\n"
   ]
  },
  {
   "cell_type": "code",
   "execution_count": null,
   "metadata": {},
   "outputs": [],
   "source": []
  }
 ],
 "metadata": {
  "kernelspec": {
   "display_name": "Python 3",
   "language": "python",
   "name": "python3"
  },
  "language_info": {
   "codemirror_mode": {
    "name": "ipython",
    "version": 3
   },
   "file_extension": ".py",
   "mimetype": "text/x-python",
   "name": "python",
   "nbconvert_exporter": "python",
   "pygments_lexer": "ipython3",
   "version": "3.10.6"
  }
 },
 "nbformat": 4,
 "nbformat_minor": 2
}
