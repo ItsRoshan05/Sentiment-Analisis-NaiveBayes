{
 "cells": [
  {
   "cell_type": "code",
   "execution_count": 7,
   "metadata": {},
   "outputs": [],
   "source": [
    "import pandas as pd"
   ]
  },
  {
   "cell_type": "code",
   "execution_count": 8,
   "metadata": {},
   "outputs": [],
   "source": [
    "df = pd.read_csv('../data/dataraw.csv', delimiter=';')"
   ]
  },
  {
   "cell_type": "code",
   "execution_count": 9,
   "metadata": {},
   "outputs": [
    {
     "data": {
      "text/plain": [
       "Keterangan\n",
       "Positif    91\n",
       "Negatif    79\n",
       "Netral     30\n",
       "Name: count, dtype: int64"
      ]
     },
     "execution_count": 9,
     "metadata": {},
     "output_type": "execute_result"
    }
   ],
   "source": [
    "df['Keterangan'].value_counts()"
   ]
  },
  {
   "cell_type": "code",
   "execution_count": 10,
   "metadata": {},
   "outputs": [
    {
     "data": {
      "text/html": [
       "<div>\n",
       "<style scoped>\n",
       "    .dataframe tbody tr th:only-of-type {\n",
       "        vertical-align: middle;\n",
       "    }\n",
       "\n",
       "    .dataframe tbody tr th {\n",
       "        vertical-align: top;\n",
       "    }\n",
       "\n",
       "    .dataframe thead th {\n",
       "        text-align: right;\n",
       "    }\n",
       "</style>\n",
       "<table border=\"1\" class=\"dataframe\">\n",
       "  <thead>\n",
       "    <tr style=\"text-align: right;\">\n",
       "      <th></th>\n",
       "      <th>userName</th>\n",
       "      <th>rating</th>\n",
       "      <th>tanggal</th>\n",
       "      <th>ulasan</th>\n",
       "      <th>Keterangan</th>\n",
       "    </tr>\n",
       "  </thead>\n",
       "  <tbody>\n",
       "    <tr>\n",
       "      <th>0</th>\n",
       "      <td>FARIZ44</td>\n",
       "      <td>3</td>\n",
       "      <td>29/02/2024 11:49</td>\n",
       "      <td>ini entah bug atau memang renderingnya yang be...</td>\n",
       "      <td>Negatif</td>\n",
       "    </tr>\n",
       "    <tr>\n",
       "      <th>1</th>\n",
       "      <td>Febrian Pratama</td>\n",
       "      <td>3</td>\n",
       "      <td>01/03/2024 06:26</td>\n",
       "      <td>Game sampah bug dimana-mana untuk handphone da...</td>\n",
       "      <td>Negatif</td>\n",
       "    </tr>\n",
       "    <tr>\n",
       "      <th>2</th>\n",
       "      <td>Friskila Visi Pangelah</td>\n",
       "      <td>3</td>\n",
       "      <td>02/03/2024 12:35</td>\n",
       "      <td>Setelah update sering ngefreeze berkali kali k...</td>\n",
       "      <td>Negatif</td>\n",
       "    </tr>\n",
       "    <tr>\n",
       "      <th>3</th>\n",
       "      <td>Gracio Kiryoma</td>\n",
       "      <td>3</td>\n",
       "      <td>07/03/2024 14:52</td>\n",
       "      <td>Bagus game nya tapi ini masalahnya nih di upda...</td>\n",
       "      <td>Negatif</td>\n",
       "    </tr>\n",
       "    <tr>\n",
       "      <th>4</th>\n",
       "      <td>Ferize</td>\n",
       "      <td>3</td>\n",
       "      <td>11/03/2024 22:01</td>\n",
       "      <td>Gameplay mulai terasa membosankan, saya suka d...</td>\n",
       "      <td>Negatif</td>\n",
       "    </tr>\n",
       "  </tbody>\n",
       "</table>\n",
       "</div>"
      ],
      "text/plain": [
       "                 userName  rating           tanggal  \\\n",
       "0                 FARIZ44       3  29/02/2024 11:49   \n",
       "1         Febrian Pratama       3  01/03/2024 06:26   \n",
       "2  Friskila Visi Pangelah       3  02/03/2024 12:35   \n",
       "3          Gracio Kiryoma       3  07/03/2024 14:52   \n",
       "4                  Ferize       3  11/03/2024 22:01   \n",
       "\n",
       "                                              ulasan Keterangan  \n",
       "0  ini entah bug atau memang renderingnya yang be...    Negatif  \n",
       "1  Game sampah bug dimana-mana untuk handphone da...    Negatif  \n",
       "2  Setelah update sering ngefreeze berkali kali k...    Negatif  \n",
       "3  Bagus game nya tapi ini masalahnya nih di upda...    Negatif  \n",
       "4  Gameplay mulai terasa membosankan, saya suka d...    Negatif  "
      ]
     },
     "execution_count": 10,
     "metadata": {},
     "output_type": "execute_result"
    }
   ],
   "source": [
    "df.head()"
   ]
  },
  {
   "cell_type": "code",
   "execution_count": 11,
   "metadata": {},
   "outputs": [],
   "source": [
    "import re\n",
    "from Sastrawi.Stemmer.StemmerFactory import StemmerFactory\n",
    "from nltk.corpus import stopwords\n",
    "import nltk"
   ]
  },
  {
   "cell_type": "code",
   "execution_count": 12,
   "metadata": {},
   "outputs": [
    {
     "name": "stderr",
     "output_type": "stream",
     "text": [
      "[nltk_data] Downloading package stopwords to\n",
      "[nltk_data]     C:\\Users\\AdmiN\\AppData\\Roaming\\nltk_data...\n",
      "[nltk_data]   Package stopwords is already up-to-date!\n"
     ]
    },
    {
     "data": {
      "text/plain": [
       "True"
      ]
     },
     "execution_count": 12,
     "metadata": {},
     "output_type": "execute_result"
    }
   ],
   "source": [
    "# Download stopwords jika belum ada\n",
    "nltk.download('stopwords')"
   ]
  },
  {
   "cell_type": "code",
   "execution_count": 13,
   "metadata": {},
   "outputs": [],
   "source": [
    "# Inisialisasi stemmer\n",
    "factory = StemmerFactory()\n",
    "stemmer = factory.create_stemmer()\n",
    "stop_words = set(stopwords.words(\"indonesian\"))"
   ]
  },
  {
   "cell_type": "code",
   "execution_count": 14,
   "metadata": {},
   "outputs": [],
   "source": [
    "\n",
    "def preprocess_text(text):\n",
    "    # Menghapus karakter khusus dan angka\n",
    "    text = re.sub(r'[^a-zA-Z\\s]', '', text)\n",
    "    # Mengkonversi teks menjadi huruf kecil\n",
    "    text = text.lower()\n",
    "    # Menghapus spasi berlebih\n",
    "    text = re.sub(r'\\s+', ' ', text).strip()\n",
    "    # Tokenisasi\n",
    "    tokens = text.split()\n",
    "    # Menghapus stopwords dan stemming\n",
    "    tokens = [stemmer.stem(word) for word in tokens if word not in stop_words]\n",
    "    return ' '.join(tokens)"
   ]
  },
  {
   "cell_type": "code",
   "execution_count": 15,
   "metadata": {},
   "outputs": [],
   "source": [
    "# Terapkan preprocessing pada kolom 'ulasan'\n",
    "df['cleaned_ulasan'] = df['ulasan'].apply(preprocess_text)"
   ]
  },
  {
   "cell_type": "code",
   "execution_count": 16,
   "metadata": {},
   "outputs": [
    {
     "data": {
      "text/plain": [
       "'bang yaa bug map gk susah lihat jalannyaharus kah main pake ultra insting tolong ya baik bugnya'"
      ]
     },
     "execution_count": 16,
     "metadata": {},
     "output_type": "execute_result"
    }
   ],
   "source": [
    "df['cleaned_ulasan'].iloc[9]"
   ]
  },
  {
   "cell_type": "code",
   "execution_count": 17,
   "metadata": {},
   "outputs": [],
   "source": [
    "df.to_csv('../data/preprocessing.csv')"
   ]
  }
 ],
 "metadata": {
  "kernelspec": {
   "display_name": "Python 3",
   "language": "python",
   "name": "python3"
  },
  "language_info": {
   "codemirror_mode": {
    "name": "ipython",
    "version": 3
   },
   "file_extension": ".py",
   "mimetype": "text/x-python",
   "name": "python",
   "nbconvert_exporter": "python",
   "pygments_lexer": "ipython3",
   "version": "3.10.6"
  }
 },
 "nbformat": 4,
 "nbformat_minor": 2
}
