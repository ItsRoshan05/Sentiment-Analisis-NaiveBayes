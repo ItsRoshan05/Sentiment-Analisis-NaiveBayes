{
 "cells": [
  {
   "cell_type": "code",
   "execution_count": 10,
   "metadata": {},
   "outputs": [],
   "source": [
    "import pandas as pd\n",
    "from sklearn.feature_extraction.text import TfidfVectorizer\n",
    "from sklearn.model_selection import train_test_split\n",
    "from sklearn.naive_bayes import MultinomialNB\n",
    "from sklearn.metrics import accuracy_score\n",
    "import joblib\n"
   ]
  },
  {
   "cell_type": "code",
   "execution_count": 11,
   "metadata": {},
   "outputs": [],
   "source": [
    "df = pd.read_csv('../data/preprocessing.csv')"
   ]
  },
  {
   "cell_type": "code",
   "execution_count": 12,
   "metadata": {},
   "outputs": [
    {
     "data": {
      "text/html": [
       "<div>\n",
       "<style scoped>\n",
       "    .dataframe tbody tr th:only-of-type {\n",
       "        vertical-align: middle;\n",
       "    }\n",
       "\n",
       "    .dataframe tbody tr th {\n",
       "        vertical-align: top;\n",
       "    }\n",
       "\n",
       "    .dataframe thead th {\n",
       "        text-align: right;\n",
       "    }\n",
       "</style>\n",
       "<table border=\"1\" class=\"dataframe\">\n",
       "  <thead>\n",
       "    <tr style=\"text-align: right;\">\n",
       "      <th></th>\n",
       "      <th>Unnamed: 0</th>\n",
       "      <th>userName</th>\n",
       "      <th>rating</th>\n",
       "      <th>tanggal</th>\n",
       "      <th>ulasan</th>\n",
       "      <th>Keterangan</th>\n",
       "      <th>cleaned_ulasan</th>\n",
       "    </tr>\n",
       "  </thead>\n",
       "  <tbody>\n",
       "    <tr>\n",
       "      <th>0</th>\n",
       "      <td>0</td>\n",
       "      <td>FARIZ44</td>\n",
       "      <td>3</td>\n",
       "      <td>29/02/2024 11:49</td>\n",
       "      <td>ini entah bug atau memang renderingnya yang be...</td>\n",
       "      <td>Negatif</td>\n",
       "      <td>bug renderingnya masalah patah sampe force clo...</td>\n",
       "    </tr>\n",
       "    <tr>\n",
       "      <th>1</th>\n",
       "      <td>1</td>\n",
       "      <td>Febrian Pratama</td>\n",
       "      <td>3</td>\n",
       "      <td>01/03/2024 06:26</td>\n",
       "      <td>Game sampah bug dimana-mana untuk handphone da...</td>\n",
       "      <td>Negatif</td>\n",
       "      <td>game sampah bug dimanamana handphone blackskre...</td>\n",
       "    </tr>\n",
       "    <tr>\n",
       "      <th>2</th>\n",
       "      <td>2</td>\n",
       "      <td>Friskila Visi Pangelah</td>\n",
       "      <td>3</td>\n",
       "      <td>02/03/2024 12:35</td>\n",
       "      <td>Setelah update sering ngefreeze berkali kali k...</td>\n",
       "      <td>Negatif</td>\n",
       "      <td>update ngefreeze kali kali battle mohon solusi...</td>\n",
       "    </tr>\n",
       "    <tr>\n",
       "      <th>3</th>\n",
       "      <td>3</td>\n",
       "      <td>Gracio Kiryoma</td>\n",
       "      <td>3</td>\n",
       "      <td>07/03/2024 14:52</td>\n",
       "      <td>Bagus game nya tapi ini masalahnya nih di upda...</td>\n",
       "      <td>Negatif</td>\n",
       "      <td>bagus game nya nih update data nya ulang ulang...</td>\n",
       "    </tr>\n",
       "    <tr>\n",
       "      <th>4</th>\n",
       "      <td>4</td>\n",
       "      <td>Ferize</td>\n",
       "      <td>3</td>\n",
       "      <td>11/03/2024 22:01</td>\n",
       "      <td>Gameplay mulai terasa membosankan, saya suka d...</td>\n",
       "      <td>Negatif</td>\n",
       "      <td>gameplay bosan suka cerita semangat main cerit...</td>\n",
       "    </tr>\n",
       "  </tbody>\n",
       "</table>\n",
       "</div>"
      ],
      "text/plain": [
       "   Unnamed: 0                userName  rating           tanggal  \\\n",
       "0           0                 FARIZ44       3  29/02/2024 11:49   \n",
       "1           1         Febrian Pratama       3  01/03/2024 06:26   \n",
       "2           2  Friskila Visi Pangelah       3  02/03/2024 12:35   \n",
       "3           3          Gracio Kiryoma       3  07/03/2024 14:52   \n",
       "4           4                  Ferize       3  11/03/2024 22:01   \n",
       "\n",
       "                                              ulasan Keterangan  \\\n",
       "0  ini entah bug atau memang renderingnya yang be...    Negatif   \n",
       "1  Game sampah bug dimana-mana untuk handphone da...    Negatif   \n",
       "2  Setelah update sering ngefreeze berkali kali k...    Negatif   \n",
       "3  Bagus game nya tapi ini masalahnya nih di upda...    Negatif   \n",
       "4  Gameplay mulai terasa membosankan, saya suka d...    Negatif   \n",
       "\n",
       "                                      cleaned_ulasan  \n",
       "0  bug renderingnya masalah patah sampe force clo...  \n",
       "1  game sampah bug dimanamana handphone blackskre...  \n",
       "2  update ngefreeze kali kali battle mohon solusi...  \n",
       "3  bagus game nya nih update data nya ulang ulang...  \n",
       "4  gameplay bosan suka cerita semangat main cerit...  "
      ]
     },
     "execution_count": 12,
     "metadata": {},
     "output_type": "execute_result"
    }
   ],
   "source": [
    "df.head()"
   ]
  },
  {
   "cell_type": "code",
   "execution_count": 13,
   "metadata": {},
   "outputs": [
    {
     "data": {
      "text/plain": [
       "Keterangan\n",
       "Positif    91\n",
       "Negatif    79\n",
       "Netral     30\n",
       "Name: count, dtype: int64"
      ]
     },
     "execution_count": 13,
     "metadata": {},
     "output_type": "execute_result"
    }
   ],
   "source": [
    "df['Keterangan'].value_counts()"
   ]
  },
  {
   "cell_type": "code",
   "execution_count": 14,
   "metadata": {},
   "outputs": [],
   "source": [
    "# Memisahkan fitur dan label\n",
    "X = df['cleaned_ulasan']\n",
    "y = df['Keterangan']"
   ]
  },
  {
   "cell_type": "code",
   "execution_count": 15,
   "metadata": {},
   "outputs": [],
   "source": [
    "# Memisahkan dataset menjadi training dan testing\n",
    "X_train, X_test, y_train, y_test = train_test_split(X, y, test_size=0.1, random_state=5)\n",
    "\n",
    "# Inisialisasi TF-IDF Vectorizer\n",
    "tfidf = TfidfVectorizer()\n",
    "\n",
    "# Fit dan transform data training, lalu transform data testing\n",
    "X_train_tfidf = tfidf.fit_transform(X_train)\n",
    "X_test_tfidf = tfidf.transform(X_test)\n"
   ]
  },
  {
   "cell_type": "code",
   "execution_count": 16,
   "metadata": {},
   "outputs": [],
   "source": [
    "# Inisialisasi model Naive Bayes\n",
    "model = MultinomialNB(alpha=0.1)\n"
   ]
  },
  {
   "cell_type": "code",
   "execution_count": 17,
   "metadata": {},
   "outputs": [
    {
     "name": "stdout",
     "output_type": "stream",
     "text": [
      "Accuracy: 0.65\n"
     ]
    }
   ],
   "source": [
    "# Training model\n",
    "model.fit(X_train_tfidf, y_train)\n",
    "\n",
    "# Prediksi data testing\n",
    "y_pred = model.predict(X_test_tfidf)\n",
    "\n",
    "# Menghitung akurasi\n",
    "accuracy = accuracy_score(y_test, y_pred)\n",
    "print(f'Accuracy: {accuracy}')"
   ]
  },
  {
   "cell_type": "code",
   "execution_count": 18,
   "metadata": {},
   "outputs": [
    {
     "data": {
      "text/plain": [
       "['../model/tfidf_vectorizer.joblib']"
      ]
     },
     "execution_count": 18,
     "metadata": {},
     "output_type": "execute_result"
    }
   ],
   "source": [
    "# Simpan model dan TF-IDF Vectorizer ke dalam file joblib\n",
    "joblib.dump(model, '../model/sentiment_model.joblib')\n",
    "joblib.dump(tfidf, '../model/tfidf_vectorizer.joblib')\n"
   ]
  },
  {
   "cell_type": "code",
   "execution_count": null,
   "metadata": {},
   "outputs": [],
   "source": [
    "    "
   ]
  }
 ],
 "metadata": {
  "kernelspec": {
   "display_name": "Python 3",
   "language": "python",
   "name": "python3"
  },
  "language_info": {
   "codemirror_mode": {
    "name": "ipython",
    "version": 3
   },
   "file_extension": ".py",
   "mimetype": "text/x-python",
   "name": "python",
   "nbconvert_exporter": "python",
   "pygments_lexer": "ipython3",
   "version": "3.10.6"
  }
 },
 "nbformat": 4,
 "nbformat_minor": 2
}
